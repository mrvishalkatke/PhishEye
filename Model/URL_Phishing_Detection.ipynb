{
  "cells": [
    {
      "cell_type": "code",
      "execution_count": 2,
      "metadata": {
        "colab": {
          "base_uri": "https://localhost:8080/"
        },
        "id": "vMyqOhIcPlQZ",
        "outputId": "703fd193-2e63-4938-e0b4-ca363ba867bd"
      },
      "outputs": [
        {
          "name": "stdout",
          "output_type": "stream",
          "text": [
            "Collecting liac-arff\n",
            "  Downloading liac-arff-2.5.0.tar.gz (13 kB)\n",
            "  Preparing metadata (setup.py) ... \u001b[?25l\u001b[?25hdone\n",
            "Building wheels for collected packages: liac-arff\n",
            "  Building wheel for liac-arff (setup.py) ... \u001b[?25l\u001b[?25hdone\n",
            "  Created wheel for liac-arff: filename=liac_arff-2.5.0-py3-none-any.whl size=11716 sha256=b26eaacb61c2bc3e755ceb3da722d4e8f969986b9a5ba2e36f87f105f2186ea4\n",
            "  Stored in directory: /root/.cache/pip/wheels/00/23/31/5e562fce1f95aabe57f2a7320d07433ba1cd152bcde2f6a002\n",
            "Successfully built liac-arff\n",
            "Installing collected packages: liac-arff\n",
            "Successfully installed liac-arff-2.5.0\n"
          ]
        }
      ],
      "source": [
        "!pip install liac-arff"
      ]
    },
    {
      "cell_type": "code",
      "execution_count": 3,
      "metadata": {
        "id": "JzhV7T6CN3hr"
      },
      "outputs": [],
      "source": [
        "import arff\n",
        "import pandas as pd\n",
        "\n",
        "# Load the ARFF file\n",
        "with open('/content/Training Dataset.arff', 'r') as f:\n",
        "    data = arff.load(f)\n",
        "\n",
        "# Convert to DataFrame\n",
        "df = pd.DataFrame(data['data'], columns=[attr[0] for attr in data['attributes']])\n",
        "\n",
        "# Save to CSV\n",
        "df.to_csv('/content/Training Dataset.cvs', index=False)\n"
      ]
    },
    {
      "cell_type": "code",
      "execution_count": 8,
      "metadata": {
        "colab": {
          "base_uri": "https://localhost:8080/"
        },
        "id": "r9pGbs_EQ6Ob",
        "outputId": "c7d3abb3-b059-4779-b606-d25519741711"
      },
      "outputs": [
        {
          "name": "stdout",
          "output_type": "stream",
          "text": [
            "Columns: Index(['having_IP_Address', 'URL_Length', 'Shortining_Service',\n",
            "       'having_At_Symbol', 'double_slash_redirecting', 'Prefix_Suffix',\n",
            "       'having_Sub_Domain', 'SSLfinal_State', 'Domain_registeration_length',\n",
            "       'Favicon', 'port', 'HTTPS_token', 'Request_URL', 'URL_of_Anchor',\n",
            "       'Links_in_tags', 'SFH', 'Submitting_to_email', 'Abnormal_URL',\n",
            "       'Redirect', 'on_mouseover', 'RightClick', 'popUpWidnow', 'Iframe',\n",
            "       'age_of_domain', 'DNSRecord', 'web_traffic', 'Page_Rank',\n",
            "       'Google_Index', 'Links_pointing_to_page', 'Statistical_report',\n",
            "       'Result'],\n",
            "      dtype='object')\n",
            "Data saved to 'Training_Dataset_split.csv'.\n"
          ]
        }
      ],
      "source": [
        "import pandas as pd\n",
        "\n",
        "# Load the CSV file\n",
        "df = pd.read_csv(\"Training Dataset.cvs\")  # Adjust filename/extension as needed\n",
        "\n",
        "# Check the columns\n",
        "print(\"Columns:\", df.columns)\n",
        "\n",
        "# Convert 'Request_URL' to string\n",
        "df['Request_URL'] = df['Request_URL'].astype(str)\n",
        "\n",
        "# Now split the 'Request_URL' column by comma into separate columns\n",
        "split_cols = df['Request_URL'].str.split(',', expand=True)\n",
        "\n",
        "# Optionally, rename the new columns\n",
        "split_cols.columns = [f\"Request_URL_part_{i}\" for i in range(split_cols.shape[1])]\n",
        "\n",
        "# Drop the original 'Request_URL' column and join the new columns\n",
        "df = df.drop('Request_URL', axis=1).join(split_cols)\n",
        "\n",
        "# Save the new DataFrame to a CSV file\n",
        "df.to_csv(\"Training_Dataset_split.csv\", index=False)\n",
        "print(\"Data saved to 'Training_Dataset_split.csv'.\")\n"
      ]
    },
    {
      "cell_type": "code",
      "execution_count": 9,
      "metadata": {
        "id": "kyvpwB-ZSRqD"
      },
      "outputs": [],
      "source": [
        "import pandas as pd\n",
        "import numpy as np\n",
        "from sklearn.model_selection import train_test_split, cross_val_score, GridSearchCV\n",
        "from sklearn.metrics import accuracy_score, roc_auc_score, classification_report, confusion_matrix\n",
        "import matplotlib.pyplot as plt\n",
        "import seaborn as sns"
      ]
    },
    {
      "cell_type": "code",
      "execution_count": 10,
      "metadata": {
        "id": "OuLi2UYGSaYa"
      },
      "outputs": [],
      "source": [
        "# For reproducibility\n",
        "RANDOM_STATE = 42"
      ]
    },
    {
      "cell_type": "code",
      "execution_count": null,
      "metadata": {
        "colab": {
          "base_uri": "https://localhost:8080/",
          "height": 470
        },
        "id": "he7HLRzWSd_r",
        "outputId": "1bc5fa65-b759-40f5-8a22-942753ac67e7"
      },
      "outputs": [
        {
          "name": "stdout",
          "output_type": "stream",
          "text": [
            "Dataset loaded successfully!\n",
            "Shape: (11055, 31)\n",
            "Columns: Index(['having_IP_Address', 'URL_Length', 'Shortining_Service',\n",
            "       'having_At_Symbol', 'double_slash_redirecting', 'Prefix_Suffix',\n",
            "       'having_Sub_Domain', 'SSLfinal_State', 'Domain_registeration_length',\n",
            "       'Favicon', 'port', 'HTTPS_token', 'URL_of_Anchor', 'Links_in_tags',\n",
            "       'SFH', 'Submitting_to_email', 'Abnormal_URL', 'Redirect',\n",
            "       'on_mouseover', 'RightClick', 'popUpWidnow', 'Iframe', 'age_of_domain',\n",
            "       'DNSRecord', 'web_traffic', 'Page_Rank', 'Google_Index',\n",
            "       'Links_pointing_to_page', 'Statistical_report', 'Result',\n",
            "       'Request_URL_part_0'],\n",
            "      dtype='object')\n"
          ]
        },
        {
          "data": {
            "application/vnd.google.colaboratory.intrinsic+json": {
              "type": "dataframe",
              "variable_name": "df"
            },
            "text/html": [
              "\n",
              "  <div id=\"df-0f6f4d92-f87b-46fb-80f6-75b14bee144f\" class=\"colab-df-container\">\n",
              "    <div>\n",
              "<style scoped>\n",
              "    .dataframe tbody tr th:only-of-type {\n",
              "        vertical-align: middle;\n",
              "    }\n",
              "\n",
              "    .dataframe tbody tr th {\n",
              "        vertical-align: top;\n",
              "    }\n",
              "\n",
              "    .dataframe thead th {\n",
              "        text-align: right;\n",
              "    }\n",
              "</style>\n",
              "<table border=\"1\" class=\"dataframe\">\n",
              "  <thead>\n",
              "    <tr style=\"text-align: right;\">\n",
              "      <th></th>\n",
              "      <th>having_IP_Address</th>\n",
              "      <th>URL_Length</th>\n",
              "      <th>Shortining_Service</th>\n",
              "      <th>having_At_Symbol</th>\n",
              "      <th>double_slash_redirecting</th>\n",
              "      <th>Prefix_Suffix</th>\n",
              "      <th>having_Sub_Domain</th>\n",
              "      <th>SSLfinal_State</th>\n",
              "      <th>Domain_registeration_length</th>\n",
              "      <th>Favicon</th>\n",
              "      <th>...</th>\n",
              "      <th>Iframe</th>\n",
              "      <th>age_of_domain</th>\n",
              "      <th>DNSRecord</th>\n",
              "      <th>web_traffic</th>\n",
              "      <th>Page_Rank</th>\n",
              "      <th>Google_Index</th>\n",
              "      <th>Links_pointing_to_page</th>\n",
              "      <th>Statistical_report</th>\n",
              "      <th>Result</th>\n",
              "      <th>Request_URL_part_0</th>\n",
              "    </tr>\n",
              "  </thead>\n",
              "  <tbody>\n",
              "    <tr>\n",
              "      <th>0</th>\n",
              "      <td>-1</td>\n",
              "      <td>1</td>\n",
              "      <td>1</td>\n",
              "      <td>1</td>\n",
              "      <td>-1</td>\n",
              "      <td>-1</td>\n",
              "      <td>-1</td>\n",
              "      <td>-1</td>\n",
              "      <td>-1</td>\n",
              "      <td>1</td>\n",
              "      <td>...</td>\n",
              "      <td>1</td>\n",
              "      <td>-1</td>\n",
              "      <td>-1</td>\n",
              "      <td>-1</td>\n",
              "      <td>-1</td>\n",
              "      <td>1</td>\n",
              "      <td>1</td>\n",
              "      <td>-1</td>\n",
              "      <td>-1</td>\n",
              "      <td>1</td>\n",
              "    </tr>\n",
              "    <tr>\n",
              "      <th>1</th>\n",
              "      <td>1</td>\n",
              "      <td>1</td>\n",
              "      <td>1</td>\n",
              "      <td>1</td>\n",
              "      <td>1</td>\n",
              "      <td>-1</td>\n",
              "      <td>0</td>\n",
              "      <td>1</td>\n",
              "      <td>-1</td>\n",
              "      <td>1</td>\n",
              "      <td>...</td>\n",
              "      <td>1</td>\n",
              "      <td>-1</td>\n",
              "      <td>-1</td>\n",
              "      <td>0</td>\n",
              "      <td>-1</td>\n",
              "      <td>1</td>\n",
              "      <td>1</td>\n",
              "      <td>1</td>\n",
              "      <td>-1</td>\n",
              "      <td>1</td>\n",
              "    </tr>\n",
              "    <tr>\n",
              "      <th>2</th>\n",
              "      <td>1</td>\n",
              "      <td>0</td>\n",
              "      <td>1</td>\n",
              "      <td>1</td>\n",
              "      <td>1</td>\n",
              "      <td>-1</td>\n",
              "      <td>-1</td>\n",
              "      <td>-1</td>\n",
              "      <td>-1</td>\n",
              "      <td>1</td>\n",
              "      <td>...</td>\n",
              "      <td>1</td>\n",
              "      <td>1</td>\n",
              "      <td>-1</td>\n",
              "      <td>1</td>\n",
              "      <td>-1</td>\n",
              "      <td>1</td>\n",
              "      <td>0</td>\n",
              "      <td>-1</td>\n",
              "      <td>-1</td>\n",
              "      <td>1</td>\n",
              "    </tr>\n",
              "    <tr>\n",
              "      <th>3</th>\n",
              "      <td>1</td>\n",
              "      <td>0</td>\n",
              "      <td>1</td>\n",
              "      <td>1</td>\n",
              "      <td>1</td>\n",
              "      <td>-1</td>\n",
              "      <td>-1</td>\n",
              "      <td>-1</td>\n",
              "      <td>1</td>\n",
              "      <td>1</td>\n",
              "      <td>...</td>\n",
              "      <td>1</td>\n",
              "      <td>-1</td>\n",
              "      <td>-1</td>\n",
              "      <td>1</td>\n",
              "      <td>-1</td>\n",
              "      <td>1</td>\n",
              "      <td>-1</td>\n",
              "      <td>1</td>\n",
              "      <td>-1</td>\n",
              "      <td>-1</td>\n",
              "    </tr>\n",
              "    <tr>\n",
              "      <th>4</th>\n",
              "      <td>1</td>\n",
              "      <td>0</td>\n",
              "      <td>-1</td>\n",
              "      <td>1</td>\n",
              "      <td>1</td>\n",
              "      <td>-1</td>\n",
              "      <td>1</td>\n",
              "      <td>1</td>\n",
              "      <td>-1</td>\n",
              "      <td>1</td>\n",
              "      <td>...</td>\n",
              "      <td>1</td>\n",
              "      <td>-1</td>\n",
              "      <td>-1</td>\n",
              "      <td>0</td>\n",
              "      <td>-1</td>\n",
              "      <td>1</td>\n",
              "      <td>1</td>\n",
              "      <td>1</td>\n",
              "      <td>1</td>\n",
              "      <td>1</td>\n",
              "    </tr>\n",
              "  </tbody>\n",
              "</table>\n",
              "<p>5 rows × 31 columns</p>\n",
              "</div>\n",
              "    <div class=\"colab-df-buttons\">\n",
              "\n",
              "  <div class=\"colab-df-container\">\n",
              "    <button class=\"colab-df-convert\" onclick=\"convertToInteractive('df-0f6f4d92-f87b-46fb-80f6-75b14bee144f')\"\n",
              "            title=\"Convert this dataframe to an interactive table.\"\n",
              "            style=\"display:none;\">\n",
              "\n",
              "  <svg xmlns=\"http://www.w3.org/2000/svg\" height=\"24px\" viewBox=\"0 -960 960 960\">\n",
              "    <path d=\"M120-120v-720h720v720H120Zm60-500h600v-160H180v160Zm220 220h160v-160H400v160Zm0 220h160v-160H400v160ZM180-400h160v-160H180v160Zm440 0h160v-160H620v160ZM180-180h160v-160H180v160Zm440 0h160v-160H620v160Z\"/>\n",
              "  </svg>\n",
              "    </button>\n",
              "\n",
              "  <style>\n",
              "    .colab-df-container {\n",
              "      display:flex;\n",
              "      gap: 12px;\n",
              "    }\n",
              "\n",
              "    .colab-df-convert {\n",
              "      background-color: #E8F0FE;\n",
              "      border: none;\n",
              "      border-radius: 50%;\n",
              "      cursor: pointer;\n",
              "      display: none;\n",
              "      fill: #1967D2;\n",
              "      height: 32px;\n",
              "      padding: 0 0 0 0;\n",
              "      width: 32px;\n",
              "    }\n",
              "\n",
              "    .colab-df-convert:hover {\n",
              "      background-color: #E2EBFA;\n",
              "      box-shadow: 0px 1px 2px rgba(60, 64, 67, 0.3), 0px 1px 3px 1px rgba(60, 64, 67, 0.15);\n",
              "      fill: #174EA6;\n",
              "    }\n",
              "\n",
              "    .colab-df-buttons div {\n",
              "      margin-bottom: 4px;\n",
              "    }\n",
              "\n",
              "    [theme=dark] .colab-df-convert {\n",
              "      background-color: #3B4455;\n",
              "      fill: #D2E3FC;\n",
              "    }\n",
              "\n",
              "    [theme=dark] .colab-df-convert:hover {\n",
              "      background-color: #434B5C;\n",
              "      box-shadow: 0px 1px 3px 1px rgba(0, 0, 0, 0.15);\n",
              "      filter: drop-shadow(0px 1px 2px rgba(0, 0, 0, 0.3));\n",
              "      fill: #FFFFFF;\n",
              "    }\n",
              "  </style>\n",
              "\n",
              "    <script>\n",
              "      const buttonEl =\n",
              "        document.querySelector('#df-0f6f4d92-f87b-46fb-80f6-75b14bee144f button.colab-df-convert');\n",
              "      buttonEl.style.display =\n",
              "        google.colab.kernel.accessAllowed ? 'block' : 'none';\n",
              "\n",
              "      async function convertToInteractive(key) {\n",
              "        const element = document.querySelector('#df-0f6f4d92-f87b-46fb-80f6-75b14bee144f');\n",
              "        const dataTable =\n",
              "          await google.colab.kernel.invokeFunction('convertToInteractive',\n",
              "                                                    [key], {});\n",
              "        if (!dataTable) return;\n",
              "\n",
              "        const docLinkHtml = 'Like what you see? Visit the ' +\n",
              "          '<a target=\"_blank\" href=https://colab.research.google.com/notebooks/data_table.ipynb>data table notebook</a>'\n",
              "          + ' to learn more about interactive tables.';\n",
              "        element.innerHTML = '';\n",
              "        dataTable['output_type'] = 'display_data';\n",
              "        await google.colab.output.renderOutput(dataTable, element);\n",
              "        const docLink = document.createElement('div');\n",
              "        docLink.innerHTML = docLinkHtml;\n",
              "        element.appendChild(docLink);\n",
              "      }\n",
              "    </script>\n",
              "  </div>\n",
              "\n",
              "\n",
              "<div id=\"df-fceda5df-746c-431e-96b2-385730e20979\">\n",
              "  <button class=\"colab-df-quickchart\" onclick=\"quickchart('df-fceda5df-746c-431e-96b2-385730e20979')\"\n",
              "            title=\"Suggest charts\"\n",
              "            style=\"display:none;\">\n",
              "\n",
              "<svg xmlns=\"http://www.w3.org/2000/svg\" height=\"24px\"viewBox=\"0 0 24 24\"\n",
              "     width=\"24px\">\n",
              "    <g>\n",
              "        <path d=\"M19 3H5c-1.1 0-2 .9-2 2v14c0 1.1.9 2 2 2h14c1.1 0 2-.9 2-2V5c0-1.1-.9-2-2-2zM9 17H7v-7h2v7zm4 0h-2V7h2v10zm4 0h-2v-4h2v4z\"/>\n",
              "    </g>\n",
              "</svg>\n",
              "  </button>\n",
              "\n",
              "<style>\n",
              "  .colab-df-quickchart {\n",
              "      --bg-color: #E8F0FE;\n",
              "      --fill-color: #1967D2;\n",
              "      --hover-bg-color: #E2EBFA;\n",
              "      --hover-fill-color: #174EA6;\n",
              "      --disabled-fill-color: #AAA;\n",
              "      --disabled-bg-color: #DDD;\n",
              "  }\n",
              "\n",
              "  [theme=dark] .colab-df-quickchart {\n",
              "      --bg-color: #3B4455;\n",
              "      --fill-color: #D2E3FC;\n",
              "      --hover-bg-color: #434B5C;\n",
              "      --hover-fill-color: #FFFFFF;\n",
              "      --disabled-bg-color: #3B4455;\n",
              "      --disabled-fill-color: #666;\n",
              "  }\n",
              "\n",
              "  .colab-df-quickchart {\n",
              "    background-color: var(--bg-color);\n",
              "    border: none;\n",
              "    border-radius: 50%;\n",
              "    cursor: pointer;\n",
              "    display: none;\n",
              "    fill: var(--fill-color);\n",
              "    height: 32px;\n",
              "    padding: 0;\n",
              "    width: 32px;\n",
              "  }\n",
              "\n",
              "  .colab-df-quickchart:hover {\n",
              "    background-color: var(--hover-bg-color);\n",
              "    box-shadow: 0 1px 2px rgba(60, 64, 67, 0.3), 0 1px 3px 1px rgba(60, 64, 67, 0.15);\n",
              "    fill: var(--button-hover-fill-color);\n",
              "  }\n",
              "\n",
              "  .colab-df-quickchart-complete:disabled,\n",
              "  .colab-df-quickchart-complete:disabled:hover {\n",
              "    background-color: var(--disabled-bg-color);\n",
              "    fill: var(--disabled-fill-color);\n",
              "    box-shadow: none;\n",
              "  }\n",
              "\n",
              "  .colab-df-spinner {\n",
              "    border: 2px solid var(--fill-color);\n",
              "    border-color: transparent;\n",
              "    border-bottom-color: var(--fill-color);\n",
              "    animation:\n",
              "      spin 1s steps(1) infinite;\n",
              "  }\n",
              "\n",
              "  @keyframes spin {\n",
              "    0% {\n",
              "      border-color: transparent;\n",
              "      border-bottom-color: var(--fill-color);\n",
              "      border-left-color: var(--fill-color);\n",
              "    }\n",
              "    20% {\n",
              "      border-color: transparent;\n",
              "      border-left-color: var(--fill-color);\n",
              "      border-top-color: var(--fill-color);\n",
              "    }\n",
              "    30% {\n",
              "      border-color: transparent;\n",
              "      border-left-color: var(--fill-color);\n",
              "      border-top-color: var(--fill-color);\n",
              "      border-right-color: var(--fill-color);\n",
              "    }\n",
              "    40% {\n",
              "      border-color: transparent;\n",
              "      border-right-color: var(--fill-color);\n",
              "      border-top-color: var(--fill-color);\n",
              "    }\n",
              "    60% {\n",
              "      border-color: transparent;\n",
              "      border-right-color: var(--fill-color);\n",
              "    }\n",
              "    80% {\n",
              "      border-color: transparent;\n",
              "      border-right-color: var(--fill-color);\n",
              "      border-bottom-color: var(--fill-color);\n",
              "    }\n",
              "    90% {\n",
              "      border-color: transparent;\n",
              "      border-bottom-color: var(--fill-color);\n",
              "    }\n",
              "  }\n",
              "</style>\n",
              "\n",
              "  <script>\n",
              "    async function quickchart(key) {\n",
              "      const quickchartButtonEl =\n",
              "        document.querySelector('#' + key + ' button');\n",
              "      quickchartButtonEl.disabled = true;  // To prevent multiple clicks.\n",
              "      quickchartButtonEl.classList.add('colab-df-spinner');\n",
              "      try {\n",
              "        const charts = await google.colab.kernel.invokeFunction(\n",
              "            'suggestCharts', [key], {});\n",
              "      } catch (error) {\n",
              "        console.error('Error during call to suggestCharts:', error);\n",
              "      }\n",
              "      quickchartButtonEl.classList.remove('colab-df-spinner');\n",
              "      quickchartButtonEl.classList.add('colab-df-quickchart-complete');\n",
              "    }\n",
              "    (() => {\n",
              "      let quickchartButtonEl =\n",
              "        document.querySelector('#df-fceda5df-746c-431e-96b2-385730e20979 button');\n",
              "      quickchartButtonEl.style.display =\n",
              "        google.colab.kernel.accessAllowed ? 'block' : 'none';\n",
              "    })();\n",
              "  </script>\n",
              "</div>\n",
              "\n",
              "    </div>\n",
              "  </div>\n"
            ],
            "text/plain": [
              "   having_IP_Address  URL_Length  Shortining_Service  having_At_Symbol  \\\n",
              "0                 -1           1                   1                 1   \n",
              "1                  1           1                   1                 1   \n",
              "2                  1           0                   1                 1   \n",
              "3                  1           0                   1                 1   \n",
              "4                  1           0                  -1                 1   \n",
              "\n",
              "   double_slash_redirecting  Prefix_Suffix  having_Sub_Domain  SSLfinal_State  \\\n",
              "0                        -1             -1                 -1              -1   \n",
              "1                         1             -1                  0               1   \n",
              "2                         1             -1                 -1              -1   \n",
              "3                         1             -1                 -1              -1   \n",
              "4                         1             -1                  1               1   \n",
              "\n",
              "   Domain_registeration_length  Favicon  ...  Iframe  age_of_domain  \\\n",
              "0                           -1        1  ...       1             -1   \n",
              "1                           -1        1  ...       1             -1   \n",
              "2                           -1        1  ...       1              1   \n",
              "3                            1        1  ...       1             -1   \n",
              "4                           -1        1  ...       1             -1   \n",
              "\n",
              "   DNSRecord  web_traffic  Page_Rank  Google_Index  Links_pointing_to_page  \\\n",
              "0         -1           -1         -1             1                       1   \n",
              "1         -1            0         -1             1                       1   \n",
              "2         -1            1         -1             1                       0   \n",
              "3         -1            1         -1             1                      -1   \n",
              "4         -1            0         -1             1                       1   \n",
              "\n",
              "   Statistical_report  Result  Request_URL_part_0  \n",
              "0                  -1      -1                   1  \n",
              "1                   1      -1                   1  \n",
              "2                  -1      -1                   1  \n",
              "3                   1      -1                  -1  \n",
              "4                   1       1                   1  \n",
              "\n",
              "[5 rows x 31 columns]"
            ]
          },
          "execution_count": 12,
          "metadata": {},
          "output_type": "execute_result"
        }
      ],
      "source": [
        "# Load the dataset. \n",
        "df = pd.read_csv(\"/content/URL_Dataset.cvs\")  \n",
        "print(\"Dataset loaded successfully!\")\n",
        "print(\"Shape:\", df.shape)\n",
        "print(\"Columns:\", df.columns)\n",
        "df.head()"
      ]
    },
    {
      "cell_type": "code",
      "execution_count": 13,
      "metadata": {
        "colab": {
          "base_uri": "https://localhost:8080/"
        },
        "id": "JfGFnNi3TOmJ",
        "outputId": "565c56c4-2325-4b10-eb61-5d8b07cfbe43"
      },
      "outputs": [
        {
          "name": "stdout",
          "output_type": "stream",
          "text": [
            "       having_IP_Address    URL_Length  Shortining_Service  having_At_Symbol  \\\n",
            "count       11055.000000  11055.000000        11055.000000      11055.000000   \n",
            "mean            0.313795     -0.633198            0.738761          0.700588   \n",
            "std             0.949534      0.766095            0.673998          0.713598   \n",
            "min            -1.000000     -1.000000           -1.000000         -1.000000   \n",
            "25%            -1.000000     -1.000000            1.000000          1.000000   \n",
            "50%             1.000000     -1.000000            1.000000          1.000000   \n",
            "75%             1.000000     -1.000000            1.000000          1.000000   \n",
            "max             1.000000      1.000000            1.000000          1.000000   \n",
            "\n",
            "       double_slash_redirecting  Prefix_Suffix  having_Sub_Domain  \\\n",
            "count              11055.000000   11055.000000       11055.000000   \n",
            "mean                   0.741474      -0.734962           0.063953   \n",
            "std                    0.671011       0.678139           0.817518   \n",
            "min                   -1.000000      -1.000000          -1.000000   \n",
            "25%                    1.000000      -1.000000          -1.000000   \n",
            "50%                    1.000000      -1.000000           0.000000   \n",
            "75%                    1.000000      -1.000000           1.000000   \n",
            "max                    1.000000       1.000000           1.000000   \n",
            "\n",
            "       SSLfinal_State  Domain_registeration_length       Favicon  ...  \\\n",
            "count    11055.000000                 11055.000000  11055.000000  ...   \n",
            "mean         0.250927                    -0.336771      0.628584  ...   \n",
            "std          0.911892                     0.941629      0.777777  ...   \n",
            "min         -1.000000                    -1.000000     -1.000000  ...   \n",
            "25%         -1.000000                    -1.000000      1.000000  ...   \n",
            "50%          1.000000                    -1.000000      1.000000  ...   \n",
            "75%          1.000000                     1.000000      1.000000  ...   \n",
            "max          1.000000                     1.000000      1.000000  ...   \n",
            "\n",
            "             Iframe  age_of_domain     DNSRecord   web_traffic     Page_Rank  \\\n",
            "count  11055.000000   11055.000000  11055.000000  11055.000000  11055.000000   \n",
            "mean       0.816915       0.061239      0.377114      0.287291     -0.483673   \n",
            "std        0.576784       0.998168      0.926209      0.827733      0.875289   \n",
            "min       -1.000000      -1.000000     -1.000000     -1.000000     -1.000000   \n",
            "25%        1.000000      -1.000000     -1.000000      0.000000     -1.000000   \n",
            "50%        1.000000       1.000000      1.000000      1.000000     -1.000000   \n",
            "75%        1.000000       1.000000      1.000000      1.000000      1.000000   \n",
            "max        1.000000       1.000000      1.000000      1.000000      1.000000   \n",
            "\n",
            "       Google_Index  Links_pointing_to_page  Statistical_report        Result  \\\n",
            "count  11055.000000            11055.000000        11055.000000  11055.000000   \n",
            "mean       0.721574                0.344007            0.719584      0.113885   \n",
            "std        0.692369                0.569944            0.694437      0.993539   \n",
            "min       -1.000000               -1.000000           -1.000000     -1.000000   \n",
            "25%        1.000000                0.000000            1.000000     -1.000000   \n",
            "50%        1.000000                0.000000            1.000000      1.000000   \n",
            "75%        1.000000                1.000000            1.000000      1.000000   \n",
            "max        1.000000                1.000000            1.000000      1.000000   \n",
            "\n",
            "       Request_URL_part_0  \n",
            "count        11055.000000  \n",
            "mean             0.186793  \n",
            "std              0.982444  \n",
            "min             -1.000000  \n",
            "25%             -1.000000  \n",
            "50%              1.000000  \n",
            "75%              1.000000  \n",
            "max              1.000000  \n",
            "\n",
            "[8 rows x 31 columns]\n",
            "\n",
            "Missing values per column:\n",
            "having_IP_Address              0\n",
            "URL_Length                     0\n",
            "Shortining_Service             0\n",
            "having_At_Symbol               0\n",
            "double_slash_redirecting       0\n",
            "Prefix_Suffix                  0\n",
            "having_Sub_Domain              0\n",
            "SSLfinal_State                 0\n",
            "Domain_registeration_length    0\n",
            "Favicon                        0\n",
            "port                           0\n",
            "HTTPS_token                    0\n",
            "URL_of_Anchor                  0\n",
            "Links_in_tags                  0\n",
            "SFH                            0\n",
            "Submitting_to_email            0\n",
            "Abnormal_URL                   0\n",
            "Redirect                       0\n",
            "on_mouseover                   0\n",
            "RightClick                     0\n",
            "popUpWidnow                    0\n",
            "Iframe                         0\n",
            "age_of_domain                  0\n",
            "DNSRecord                      0\n",
            "web_traffic                    0\n",
            "Page_Rank                      0\n",
            "Google_Index                   0\n",
            "Links_pointing_to_page         0\n",
            "Statistical_report             0\n",
            "Result                         0\n",
            "Request_URL_part_0             0\n",
            "dtype: int64\n"
          ]
        }
      ],
      "source": [
        "# Data Exploration\n",
        "print(df.describe())\n",
        "print(\"\\nMissing values per column:\")\n",
        "print(df.isnull().sum())"
      ]
    },
    {
      "cell_type": "code",
      "execution_count": 14,
      "metadata": {
        "colab": {
          "base_uri": "https://localhost:8080/"
        },
        "id": "KgN1IyZUTRpe",
        "outputId": "ba72420a-02d5-4642-c2ca-63a3e7ea1287"
      },
      "outputs": [
        {
          "name": "stdout",
          "output_type": "stream",
          "text": [
            "Data types:\n",
            "having_IP_Address              int64\n",
            "URL_Length                     int64\n",
            "Shortining_Service             int64\n",
            "having_At_Symbol               int64\n",
            "double_slash_redirecting       int64\n",
            "Prefix_Suffix                  int64\n",
            "having_Sub_Domain              int64\n",
            "SSLfinal_State                 int64\n",
            "Domain_registeration_length    int64\n",
            "Favicon                        int64\n",
            "port                           int64\n",
            "HTTPS_token                    int64\n",
            "URL_of_Anchor                  int64\n",
            "Links_in_tags                  int64\n",
            "SFH                            int64\n",
            "Submitting_to_email            int64\n",
            "Abnormal_URL                   int64\n",
            "Redirect                       int64\n",
            "on_mouseover                   int64\n",
            "RightClick                     int64\n",
            "popUpWidnow                    int64\n",
            "Iframe                         int64\n",
            "age_of_domain                  int64\n",
            "DNSRecord                      int64\n",
            "web_traffic                    int64\n",
            "Page_Rank                      int64\n",
            "Google_Index                   int64\n",
            "Links_pointing_to_page         int64\n",
            "Statistical_report             int64\n",
            "Result                         int64\n",
            "Request_URL_part_0             int64\n",
            "dtype: object\n"
          ]
        }
      ],
      "source": [
        "# Check the data types and convert if needed\n",
        "print(\"Data types:\")\n",
        "print(df.dtypes)"
      ]
    },
    {
      "cell_type": "code",
      "execution_count": 15,
      "metadata": {
        "id": "7P_DQgjWTVaF"
      },
      "outputs": [],
      "source": [
        "# Assume the target column is named 'Result' (0 for safe, 1 for malicious)\n",
        "if 'Result' not in df.columns:\n",
        "    raise ValueError(\"The dataset must contain a 'Result' column as the target variable.\")\n"
      ]
    },
    {
      "cell_type": "code",
      "execution_count": 16,
      "metadata": {
        "id": "MEDViJdUTY5A"
      },
      "outputs": [],
      "source": [
        "# For this example, we'll assume that all columns except 'Result' are features.\n",
        "X = df.drop(\"Result\", axis=1)\n",
        "y = df[\"Result\"]"
      ]
    },
    {
      "cell_type": "code",
      "execution_count": 17,
      "metadata": {
        "id": "xsaKKA2_TbbP"
      },
      "outputs": [],
      "source": [
        "# Optionally, fill missing values (if any) with the median of each column\n",
        "X = X.fillna(X.median())"
      ]
    },
    {
      "cell_type": "code",
      "execution_count": 18,
      "metadata": {
        "colab": {
          "base_uri": "https://localhost:8080/"
        },
        "id": "1vPB_fHnTdyS",
        "outputId": "dc8cfa8d-242a-4598-96e6-67c4030cbfe3"
      },
      "outputs": [
        {
          "name": "stdout",
          "output_type": "stream",
          "text": [
            "Preprocessed features shape: (11055, 30)\n",
            "Target distribution:\n",
            "Result\n",
            " 1    6157\n",
            "-1    4898\n",
            "Name: count, dtype: int64\n"
          ]
        }
      ],
      "source": [
        "print(\"Preprocessed features shape:\", X.shape)\n",
        "print(\"Target distribution:\")\n",
        "print(y.value_counts())"
      ]
    },
    {
      "cell_type": "code",
      "execution_count": 19,
      "metadata": {
        "colab": {
          "base_uri": "https://localhost:8080/"
        },
        "id": "5o02Nzj3TgmP",
        "outputId": "2c60978c-9ba5-466e-ae86-0fc16f8fb337"
      },
      "outputs": [
        {
          "name": "stdout",
          "output_type": "stream",
          "text": [
            "Training set shape: (8844, 30)\n",
            "Test set shape: (2211, 30)\n"
          ]
        }
      ],
      "source": [
        "# Train-Test Split\n",
        "from sklearn.model_selection import train_test_split\n",
        "\n",
        "X_train, X_test, y_train, y_test = train_test_split(X, y, test_size=0.2, random_state=RANDOM_STATE)\n",
        "print(\"Training set shape:\", X_train.shape)\n",
        "print(\"Test set shape:\", X_test.shape)"
      ]
    },
    {
      "cell_type": "markdown",
      "metadata": {
        "id": "EH6vwnsnTorM"
      },
      "source": [
        "# ## Machine Learning Models\n",
        "#\n",
        "# We'll train several models and compare their performance:\n",
        "#\n",
        "# 1. Logistic Regression  \n",
        "# 2. Decision Tree  \n",
        "# 3. Random Forest  \n",
        "# 4. Support Vector Machine (SVM)  \n",
        "# 5. K-Nearest Neighbors (KNN)  \n",
        "# 6. Naive Bayes  \n",
        "# 7. Gradient Boosting  \n",
        "# 8. XGBoost  \n",
        "# 9. Stacking Classifier\n"
      ]
    },
    {
      "cell_type": "code",
      "execution_count": null,
      "metadata": {
        "id": "d0wrIFwyTmRQ"
      },
      "outputs": [],
      "source": [
        "from sklearn.linear_model import LogisticRegression\n",
        "from sklearn.tree import DecisionTreeClassifier\n",
        "from sklearn.ensemble import RandomForestClassifier, GradientBoostingClassifier, StackingClassifier\n",
        "from sklearn.svm import SVC\n",
        "from sklearn.neighbors import KNeighborsClassifier\n",
        "from sklearn.naive_bayes import GaussianNB\n",
        "import xgboost as xgb"
      ]
    },
    {
      "cell_type": "code",
      "execution_count": null,
      "metadata": {
        "id": "Ds8SfqFPTvy4"
      },
      "outputs": [],
      "source": [
        "def evaluate_model(model, X_test, y_test):\n",
        "    from sklearn.metrics import accuracy_score, roc_auc_score, classification_report\n",
        "    y_pred = model.predict(X_test)\n",
        "    print(\"Accuracy:\", accuracy_score(y_test, y_pred))\n",
        "    try:\n",
        "        y_proba = model.predict_proba(X_test)[:, 1]\n",
        "        print(\"ROC AUC:\", roc_auc_score(y_test, y_proba))\n",
        "    except Exception as e:\n",
        "        print(\"ROC AUC cannot be computed:\", e)\n",
        "    print(\"Classification Report:\")\n",
        "    print(classification_report(y_test, y_pred))\n",
        "    print(\"\\n\")"
      ]
    },
    {
      "cell_type": "code",
      "execution_count": null,
      "metadata": {
        "colab": {
          "base_uri": "https://localhost:8080/"
        },
        "id": "6nI-mijvTvwi",
        "outputId": "f2383f0a-e62c-4d4e-8de8-e0c2d5d3db65"
      },
      "outputs": [
        {
          "name": "stdout",
          "output_type": "stream",
          "text": [
            "Logistic Regression Performance:\n",
            "Accuracy: 0.924468566259611\n",
            "ROC AUC: 0.9770291220057011\n",
            "Classification Report:\n",
            "              precision    recall  f1-score   support\n",
            "\n",
            "          -1       0.92      0.90      0.91       956\n",
            "           1       0.93      0.94      0.93      1255\n",
            "\n",
            "    accuracy                           0.92      2211\n",
            "   macro avg       0.92      0.92      0.92      2211\n",
            "weighted avg       0.92      0.92      0.92      2211\n",
            "\n",
            "\n",
            "\n"
          ]
        }
      ],
      "source": [
        "# 1. Logistic Regression\n",
        "lr = LogisticRegression(max_iter=1000, random_state=RANDOM_STATE)\n",
        "lr.fit(X_train, y_train)\n",
        "print(\"Logistic Regression Performance:\")\n",
        "evaluate_model(lr, X_test, y_test)"
      ]
    },
    {
      "cell_type": "code",
      "execution_count": null,
      "metadata": {
        "colab": {
          "base_uri": "https://localhost:8080/"
        },
        "id": "U-5I4bE3TvuM",
        "outputId": "7342f981-2a73-413e-a11c-02bfea55772b"
      },
      "outputs": [
        {
          "name": "stdout",
          "output_type": "stream",
          "text": [
            "Decision Tree Performance:\n",
            "Accuracy: 0.9579375848032564\n",
            "ROC AUC: 0.9709075830568938\n",
            "Classification Report:\n",
            "              precision    recall  f1-score   support\n",
            "\n",
            "          -1       0.95      0.95      0.95       956\n",
            "           1       0.96      0.96      0.96      1255\n",
            "\n",
            "    accuracy                           0.96      2211\n",
            "   macro avg       0.96      0.96      0.96      2211\n",
            "weighted avg       0.96      0.96      0.96      2211\n",
            "\n",
            "\n",
            "\n"
          ]
        }
      ],
      "source": [
        "# 2. Decision Tree\n",
        "dt = DecisionTreeClassifier(random_state=RANDOM_STATE)\n",
        "dt.fit(X_train, y_train)\n",
        "print(\"Decision Tree Performance:\")\n",
        "evaluate_model(dt, X_test, y_test)"
      ]
    },
    {
      "cell_type": "code",
      "execution_count": null,
      "metadata": {
        "colab": {
          "base_uri": "https://localhost:8080/"
        },
        "id": "rrJOnozeTvrm",
        "outputId": "af1a4289-e408-4d6a-d2a1-5cea9d0855b9"
      },
      "outputs": [
        {
          "name": "stdout",
          "output_type": "stream",
          "text": [
            "Random Forest Performance:\n",
            "Accuracy: 0.966078697421981\n",
            "ROC AUC: 0.9957492206904599\n",
            "Classification Report:\n",
            "              precision    recall  f1-score   support\n",
            "\n",
            "          -1       0.97      0.95      0.96       956\n",
            "           1       0.96      0.98      0.97      1255\n",
            "\n",
            "    accuracy                           0.97      2211\n",
            "   macro avg       0.97      0.96      0.97      2211\n",
            "weighted avg       0.97      0.97      0.97      2211\n",
            "\n",
            "\n",
            "\n"
          ]
        }
      ],
      "source": [
        "# 3. Random Forest\n",
        "rf = RandomForestClassifier(n_estimators=100, random_state=RANDOM_STATE)\n",
        "rf.fit(X_train, y_train)\n",
        "print(\"Random Forest Performance:\")\n",
        "evaluate_model(rf, X_test, y_test)"
      ]
    },
    {
      "cell_type": "code",
      "execution_count": null,
      "metadata": {
        "colab": {
          "base_uri": "https://localhost:8080/"
        },
        "id": "LedQ9sRrTvov",
        "outputId": "c5944e23-91ab-4781-e6dd-764f26817dfc"
      },
      "outputs": [
        {
          "name": "stdout",
          "output_type": "stream",
          "text": [
            "SVM Performance:\n",
            "Accuracy: 0.9470827679782904\n",
            "ROC AUC: 0.9862208071479771\n",
            "Classification Report:\n",
            "              precision    recall  f1-score   support\n",
            "\n",
            "          -1       0.95      0.92      0.94       956\n",
            "           1       0.94      0.97      0.95      1255\n",
            "\n",
            "    accuracy                           0.95      2211\n",
            "   macro avg       0.95      0.94      0.95      2211\n",
            "weighted avg       0.95      0.95      0.95      2211\n",
            "\n",
            "\n",
            "\n"
          ]
        }
      ],
      "source": [
        "# 4. Support Vector Machine (SVM)\n",
        "# We'll use probability=True to compute ROC AUC.\n",
        "svm = SVC(probability=True, random_state=RANDOM_STATE)\n",
        "svm.fit(X_train, y_train)\n",
        "print(\"SVM Performance:\")\n",
        "evaluate_model(svm, X_test, y_test)"
      ]
    },
    {
      "cell_type": "code",
      "execution_count": null,
      "metadata": {
        "colab": {
          "base_uri": "https://localhost:8080/"
        },
        "id": "HtXRBvllTvmI",
        "outputId": "b6ac7893-108f-4058-d031-870294b08167"
      },
      "outputs": [
        {
          "name": "stdout",
          "output_type": "stream",
          "text": [
            "KNN Performance:\n",
            "Accuracy: 0.9407507914970602\n",
            "ROC AUC: 0.9819616929770458\n",
            "Classification Report:\n",
            "              precision    recall  f1-score   support\n",
            "\n",
            "          -1       0.94      0.92      0.93       956\n",
            "           1       0.94      0.95      0.95      1255\n",
            "\n",
            "    accuracy                           0.94      2211\n",
            "   macro avg       0.94      0.94      0.94      2211\n",
            "weighted avg       0.94      0.94      0.94      2211\n",
            "\n",
            "\n",
            "\n"
          ]
        }
      ],
      "source": [
        "# 5. K-Nearest Neighbors (KNN)\n",
        "knn = KNeighborsClassifier(n_neighbors=5)\n",
        "knn.fit(X_train, y_train)\n",
        "print(\"KNN Performance:\")\n",
        "evaluate_model(knn, X_test, y_test)"
      ]
    },
    {
      "cell_type": "code",
      "execution_count": null,
      "metadata": {
        "colab": {
          "base_uri": "https://localhost:8080/"
        },
        "id": "DHdCSMDiTvji",
        "outputId": "b20b0118-577f-45b5-cce9-af98a1b29a6e"
      },
      "outputs": [
        {
          "name": "stdout",
          "output_type": "stream",
          "text": [
            "Naive Bayes Performance:\n",
            "Accuracy: 0.5829941203075532\n",
            "ROC AUC: 0.965533681174882\n",
            "Classification Report:\n",
            "              precision    recall  f1-score   support\n",
            "\n",
            "          -1       0.51      1.00      0.67       956\n",
            "           1       1.00      0.27      0.42      1255\n",
            "\n",
            "    accuracy                           0.58      2211\n",
            "   macro avg       0.75      0.63      0.55      2211\n",
            "weighted avg       0.79      0.58      0.53      2211\n",
            "\n",
            "\n",
            "\n"
          ]
        }
      ],
      "source": [
        "# 6. Naive Bayes\n",
        "nb = GaussianNB()\n",
        "nb.fit(X_train, y_train)\n",
        "print(\"Naive Bayes Performance:\")\n",
        "evaluate_model(nb, X_test, y_test)"
      ]
    },
    {
      "cell_type": "code",
      "execution_count": null,
      "metadata": {
        "colab": {
          "base_uri": "https://localhost:8080/"
        },
        "id": "JLYaXmESTvgq",
        "outputId": "2021e032-d76c-464c-8684-a6f9c34a35b1"
      },
      "outputs": [
        {
          "name": "stdout",
          "output_type": "stream",
          "text": [
            "Gradient Boosting Performance:\n",
            "Accuracy: 0.9507010402532791\n",
            "ROC AUC: 0.9902482121722316\n",
            "Classification Report:\n",
            "              precision    recall  f1-score   support\n",
            "\n",
            "          -1       0.95      0.93      0.94       956\n",
            "           1       0.95      0.96      0.96      1255\n",
            "\n",
            "    accuracy                           0.95      2211\n",
            "   macro avg       0.95      0.95      0.95      2211\n",
            "weighted avg       0.95      0.95      0.95      2211\n",
            "\n",
            "\n",
            "\n"
          ]
        }
      ],
      "source": [
        "# 7. Gradient Boosting\n",
        "gb = GradientBoostingClassifier(n_estimators=100, random_state=RANDOM_STATE)\n",
        "gb.fit(X_train, y_train)\n",
        "print(\"Gradient Boosting Performance:\")\n",
        "evaluate_model(gb, X_test, y_test)"
      ]
    },
    {
      "cell_type": "code",
      "execution_count": null,
      "metadata": {
        "id": "7ook4vy1Ume7"
      },
      "outputs": [],
      "source": [
        "# Assume df is your DataFrame and 'Result' is your target column\n",
        "X = df.drop(\"Result\", axis=1)\n",
        "y = df[\"Result\"]\n",
        "\n",
        "# Convert target labels to 0 and 1\n",
        "y = y.map({-1: 0, 1: 1})\n",
        "\n",
        "# Now perform train-test split\n",
        "from sklearn.model_selection import train_test_split\n",
        "X_train, X_test, y_train, y_test = train_test_split(X, y, test_size=0.2, random_state=RANDOM_STATE)\n"
      ]
    },
    {
      "cell_type": "code",
      "execution_count": null,
      "metadata": {
        "colab": {
          "base_uri": "https://localhost:8080/"
        },
        "id": "YGuuc1W1Tvdj",
        "outputId": "b5f69d37-90ca-4ee3-b9cd-3efb8fa35e88"
      },
      "outputs": [
        {
          "name": "stderr",
          "output_type": "stream",
          "text": [
            "/usr/local/lib/python3.11/dist-packages/xgboost/core.py:158: UserWarning: [09:53:13] WARNING: /workspace/src/learner.cc:740: \n",
            "Parameters: { \"use_label_encoder\" } are not used.\n",
            "\n",
            "  warnings.warn(smsg, UserWarning)\n"
          ]
        },
        {
          "name": "stdout",
          "output_type": "stream",
          "text": [
            "XGBoost Performance:\n",
            "Accuracy: 0.9601990049751243\n",
            "ROC AUC: 0.9936621713980898\n",
            "Classification Report:\n",
            "              precision    recall  f1-score   support\n",
            "\n",
            "           0       0.96      0.94      0.95       956\n",
            "           1       0.96      0.97      0.97      1255\n",
            "\n",
            "    accuracy                           0.96      2211\n",
            "   macro avg       0.96      0.96      0.96      2211\n",
            "weighted avg       0.96      0.96      0.96      2211\n",
            "\n",
            "\n",
            "\n"
          ]
        }
      ],
      "source": [
        "# 8. XGBoost Classifier\n",
        "import xgboost as xgb\n",
        "RANDOM_STATE = 42\n",
        "xgb_clf = xgb.XGBClassifier(n_estimators=100, max_depth=5, learning_rate=0.1,\n",
        "                            use_label_encoder=False, eval_metric='logloss', random_state=RANDOM_STATE)\n",
        "xgb_clf.fit(X_train, y_train)\n",
        "print(\"XGBoost Performance:\")\n",
        "evaluate_model(xgb_clf, X_test, y_test)\n"
      ]
    },
    {
      "cell_type": "code",
      "execution_count": null,
      "metadata": {
        "id": "sQOGjWwATvar"
      },
      "outputs": [],
      "source": [
        "# 9. Stacking Classifier\n",
        "estimators = [\n",
        "    ('lr', LogisticRegression(max_iter=1000, random_state=RANDOM_STATE)),\n",
        "    ('rf', RandomForestClassifier(n_estimators=100, random_state=RANDOM_STATE)),\n",
        "    ('svm', SVC(probability=True, random_state=RANDOM_STATE)),\n",
        "    ('xgb', xgb.XGBClassifier(n_estimators=100, max_depth=5, learning_rate=0.1, use_label_encoder=False, eval_metric='logloss', random_state=RANDOM_STATE))\n",
        "]"
      ]
    },
    {
      "cell_type": "code",
      "execution_count": null,
      "metadata": {
        "colab": {
          "base_uri": "https://localhost:8080/"
        },
        "id": "Id2QUbMzUx0v",
        "outputId": "866d2fb6-40cb-48b5-fe07-3b9936084438"
      },
      "outputs": [
        {
          "name": "stderr",
          "output_type": "stream",
          "text": [
            "/usr/local/lib/python3.11/dist-packages/xgboost/core.py:158: UserWarning: [09:54:05] WARNING: /workspace/src/learner.cc:740: \n",
            "Parameters: { \"use_label_encoder\" } are not used.\n",
            "\n",
            "  warnings.warn(smsg, UserWarning)\n",
            "/usr/local/lib/python3.11/dist-packages/xgboost/core.py:158: UserWarning: [09:54:39] WARNING: /workspace/src/learner.cc:740: \n",
            "Parameters: { \"use_label_encoder\" } are not used.\n",
            "\n",
            "  warnings.warn(smsg, UserWarning)\n",
            "/usr/local/lib/python3.11/dist-packages/xgboost/core.py:158: UserWarning: [09:54:39] WARNING: /workspace/src/learner.cc:740: \n",
            "Parameters: { \"use_label_encoder\" } are not used.\n",
            "\n",
            "  warnings.warn(smsg, UserWarning)\n",
            "/usr/local/lib/python3.11/dist-packages/xgboost/core.py:158: UserWarning: [09:54:40] WARNING: /workspace/src/learner.cc:740: \n",
            "Parameters: { \"use_label_encoder\" } are not used.\n",
            "\n",
            "  warnings.warn(smsg, UserWarning)\n",
            "/usr/local/lib/python3.11/dist-packages/xgboost/core.py:158: UserWarning: [09:54:40] WARNING: /workspace/src/learner.cc:740: \n",
            "Parameters: { \"use_label_encoder\" } are not used.\n",
            "\n",
            "  warnings.warn(smsg, UserWarning)\n",
            "/usr/local/lib/python3.11/dist-packages/xgboost/core.py:158: UserWarning: [09:54:40] WARNING: /workspace/src/learner.cc:740: \n",
            "Parameters: { \"use_label_encoder\" } are not used.\n",
            "\n",
            "  warnings.warn(smsg, UserWarning)\n"
          ]
        },
        {
          "name": "stdout",
          "output_type": "stream",
          "text": [
            "Stacking Classifier Performance:\n",
            "Accuracy: 0.9674355495251018\n",
            "ROC AUC: 0.995745470002834\n",
            "Classification Report:\n",
            "              precision    recall  f1-score   support\n",
            "\n",
            "           0       0.97      0.95      0.96       956\n",
            "           1       0.96      0.98      0.97      1255\n",
            "\n",
            "    accuracy                           0.97      2211\n",
            "   macro avg       0.97      0.97      0.97      2211\n",
            "weighted avg       0.97      0.97      0.97      2211\n",
            "\n",
            "\n",
            "\n"
          ]
        }
      ],
      "source": [
        "stacking_clf = StackingClassifier(estimators=estimators, final_estimator=GradientBoostingClassifier(random_state=RANDOM_STATE))\n",
        "stacking_clf.fit(X_train, y_train)\n",
        "print(\"Stacking Classifier Performance:\")\n",
        "evaluate_model(stacking_clf, X_test, y_test)"
      ]
    },
    {
      "cell_type": "code",
      "execution_count": null,
      "metadata": {
        "colab": {
          "base_uri": "https://localhost:8080/"
        },
        "id": "5OxL79_0VGqW",
        "outputId": "63b5ab97-f9fa-417e-87da-8a213dccca47"
      },
      "outputs": [
        {
          "name": "stdout",
          "output_type": "stream",
          "text": [
            "Model saved as XGBoostClassifier.pkl\n"
          ]
        }
      ],
      "source": [
        "import pickle\n",
        "\n",
        "# Save the trained XGBoost classifier\n",
        "with open(\"XGBoostClassifier.pkl\", \"wb\") as f:\n",
        "    pickle.dump(xgb_clf, f)\n",
        "\n",
        "print(\"Model saved as XGBoostClassifier.pkl\")\n"
      ]
    },
    {
      "cell_type": "code",
      "execution_count": null,
      "metadata": {
        "id": "8fS361IyVLDD"
      },
      "outputs": [],
      "source": [
        "import pickle\n",
        "\n",
        "with open(\"XGBoostClassifier.pkl\", \"rb\") as f:\n",
        "    xgb_clf_loaded = pickle.load(f)\n",
        "\n",
        "# Now you can use xgb_clf_loaded for predictions\n"
      ]
    },
    {
      "cell_type": "code",
      "execution_count": null,
      "metadata": {
        "colab": {
          "base_uri": "https://localhost:8080/"
        },
        "id": "mIC_hcOUVRKd",
        "outputId": "3caa63ec-0236-4767-dab3-055c0b0b0597"
      },
      "outputs": [
        {
          "name": "stdout",
          "output_type": "stream",
          "text": [
            "Model saved as XGBoostClassifier.json\n"
          ]
        }
      ],
      "source": [
        "# Save the booster from your XGBClassifier model\n",
        "xgb_clf.get_booster().save_model(\"XGBoostClassifier.json\")\n",
        "print(\"Model saved as XGBoostClassifier.json\")\n"
      ]
    },
    {
      "cell_type": "code",
      "execution_count": null,
      "metadata": {
        "id": "7T1d6OdKVSPu"
      },
      "outputs": [],
      "source": [
        "import xgboost as xgb\n",
        "\n",
        "model_booster = xgb.Booster()\n",
        "model_booster.load_model(\"XGBoostClassifier.json\")\n",
        "# Use model_booster for predictions via a DMatrix:\n",
        "# e.g., model_booster.predict(xgb.DMatrix(X_test))\n"
      ]
    }
  ],
  "metadata": {
    "colab": {
      "provenance": []
    },
    "kernelspec": {
      "display_name": "Python 3",
      "name": "python3"
    },
    "language_info": {
      "name": "python"
    }
  },
  "nbformat": 4,
  "nbformat_minor": 0
}
